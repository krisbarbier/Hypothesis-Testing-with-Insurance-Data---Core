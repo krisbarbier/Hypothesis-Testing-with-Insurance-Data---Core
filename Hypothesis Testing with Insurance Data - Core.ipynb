{
 "cells": [
  {
   "cell_type": "markdown",
   "id": "b1bece78",
   "metadata": {},
   "source": [
    "# Hypothesis Testing with Insurance Data - Core\n",
    "\n",
    "Kris Barbier"
   ]
  },
  {
   "cell_type": "markdown",
   "id": "ceed7ddb",
   "metadata": {},
   "source": [
    "## Imports and Load Data"
   ]
  },
  {
   "cell_type": "code",
   "execution_count": 1,
   "id": "b409b613",
   "metadata": {},
   "outputs": [],
   "source": [
    "#Imports\n",
    "import pandas as pd\n",
    "import numpy as np\n",
    "import matplotlib.pyplot as plt\n",
    "import seaborn as sns\n",
    "import scipy.stats as stats"
   ]
  },
  {
   "cell_type": "code",
   "execution_count": 2,
   "id": "a3941e0a",
   "metadata": {},
   "outputs": [
    {
     "data": {
      "text/html": [
       "<div>\n",
       "<style scoped>\n",
       "    .dataframe tbody tr th:only-of-type {\n",
       "        vertical-align: middle;\n",
       "    }\n",
       "\n",
       "    .dataframe tbody tr th {\n",
       "        vertical-align: top;\n",
       "    }\n",
       "\n",
       "    .dataframe thead th {\n",
       "        text-align: right;\n",
       "    }\n",
       "</style>\n",
       "<table border=\"1\" class=\"dataframe\">\n",
       "  <thead>\n",
       "    <tr style=\"text-align: right;\">\n",
       "      <th></th>\n",
       "      <th>age</th>\n",
       "      <th>sex</th>\n",
       "      <th>bmi</th>\n",
       "      <th>children</th>\n",
       "      <th>smoker</th>\n",
       "      <th>region</th>\n",
       "      <th>charges</th>\n",
       "    </tr>\n",
       "  </thead>\n",
       "  <tbody>\n",
       "    <tr>\n",
       "      <th>0</th>\n",
       "      <td>19</td>\n",
       "      <td>female</td>\n",
       "      <td>27.900</td>\n",
       "      <td>0</td>\n",
       "      <td>yes</td>\n",
       "      <td>southwest</td>\n",
       "      <td>16884.92400</td>\n",
       "    </tr>\n",
       "    <tr>\n",
       "      <th>1</th>\n",
       "      <td>18</td>\n",
       "      <td>male</td>\n",
       "      <td>33.770</td>\n",
       "      <td>1</td>\n",
       "      <td>no</td>\n",
       "      <td>southeast</td>\n",
       "      <td>1725.55230</td>\n",
       "    </tr>\n",
       "    <tr>\n",
       "      <th>2</th>\n",
       "      <td>28</td>\n",
       "      <td>male</td>\n",
       "      <td>33.000</td>\n",
       "      <td>3</td>\n",
       "      <td>no</td>\n",
       "      <td>southeast</td>\n",
       "      <td>4449.46200</td>\n",
       "    </tr>\n",
       "    <tr>\n",
       "      <th>3</th>\n",
       "      <td>33</td>\n",
       "      <td>male</td>\n",
       "      <td>22.705</td>\n",
       "      <td>0</td>\n",
       "      <td>no</td>\n",
       "      <td>northwest</td>\n",
       "      <td>21984.47061</td>\n",
       "    </tr>\n",
       "    <tr>\n",
       "      <th>4</th>\n",
       "      <td>32</td>\n",
       "      <td>male</td>\n",
       "      <td>28.880</td>\n",
       "      <td>0</td>\n",
       "      <td>no</td>\n",
       "      <td>northwest</td>\n",
       "      <td>3866.85520</td>\n",
       "    </tr>\n",
       "  </tbody>\n",
       "</table>\n",
       "</div>"
      ],
      "text/plain": [
       "   age     sex     bmi  children smoker     region      charges\n",
       "0   19  female  27.900         0    yes  southwest  16884.92400\n",
       "1   18    male  33.770         1     no  southeast   1725.55230\n",
       "2   28    male  33.000         3     no  southeast   4449.46200\n",
       "3   33    male  22.705         0     no  northwest  21984.47061\n",
       "4   32    male  28.880         0     no  northwest   3866.85520"
      ]
     },
     "execution_count": 2,
     "metadata": {},
     "output_type": "execute_result"
    }
   ],
   "source": [
    "#Load in data\n",
    "df = pd.read_csv('Data/insurance - insurance.csv')\n",
    "\n",
    "df.head()"
   ]
  },
  {
   "cell_type": "markdown",
   "id": "7a3adb82",
   "metadata": {},
   "source": [
    "## Hypothesis Test 1: Do smokers have higher insurance charges than non-smokers?"
   ]
  },
  {
   "cell_type": "markdown",
   "id": "068dd4bb",
   "metadata": {},
   "source": [
    "### State Hypotheses: \n",
    "\n",
    "- Null Hypothesis: There is no difference in charges between smokers and non-smokers.\n",
    "\n",
    "- Alternate Hypothesis: Charges are higher for smokers than non-smokers.\n",
    "\n",
    "- Alpha = 0.05"
   ]
  },
  {
   "cell_type": "markdown",
   "id": "9e458e58",
   "metadata": {},
   "source": [
    "### Select Test:\n",
    "\n",
    "- I will be using a 2-sample T-test for this question, because I am comparing the average charges for two different groups: smokers and non-smokers."
   ]
  },
  {
   "cell_type": "markdown",
   "id": "58f10858",
   "metadata": {},
   "source": [
    "### Test Assumptions:\n",
    "\n",
    "- Assumptions of 2-sample independent t-test:\n",
    "    - No significant outliers\n",
    "    - Normality\n",
    "    - Equal variance"
   ]
  },
  {
   "cell_type": "code",
   "execution_count": 3,
   "id": "37a14604",
   "metadata": {},
   "outputs": [
    {
     "data": {
      "text/plain": [
       "no     1064\n",
       "yes     274\n",
       "Name: smoker, dtype: int64"
      ]
     },
     "execution_count": 3,
     "metadata": {},
     "output_type": "execute_result"
    }
   ],
   "source": [
    "#Check sizes of samples in smoker feature\n",
    "df['smoker'].value_counts()"
   ]
  },
  {
   "cell_type": "code",
   "execution_count": 4,
   "id": "3cad6530",
   "metadata": {},
   "outputs": [
    {
     "name": "stdout",
     "output_type": "stream",
     "text": [
      "For Smokers (n=274): Mean=32050.23\n",
      "For Non-Smokers (n=1064): Mean=8434.27\n"
     ]
    }
   ],
   "source": [
    "#Split the data into two groups\n",
    "smoker_charges = df.loc[df['smoker'] == 'yes', \"charges\"]\n",
    "non_smoker_charges = df.loc[df['smoker'] == 'no', \"charges\"]\n",
    "#Getting means for smoking and charges\n",
    "print(f\"For Smokers (n={len(smoker_charges)}): Mean={np.mean(smoker_charges):.2f}\")\n",
    "print(f\"For Non-Smokers (n={len(non_smoker_charges)}): Mean={np.mean(non_smoker_charges):.2f}\")"
   ]
  },
  {
   "cell_type": "code",
   "execution_count": 6,
   "id": "62e1d9b2",
   "metadata": {},
   "outputs": [
    {
     "data": {
      "text/plain": [
       "0"
      ]
     },
     "execution_count": 6,
     "metadata": {},
     "output_type": "execute_result"
    }
   ],
   "source": [
    "#Check for outliers in smokers\n",
    "zscores_smoker = stats.zscore(smoker_charges)\n",
    "outliers_smoker = abs(zscores_smoker)>3\n",
    "np.sum(outliers_smoker)"
   ]
  },
  {
   "cell_type": "code",
   "execution_count": 7,
   "id": "280c621a",
   "metadata": {},
   "outputs": [
    {
     "data": {
      "text/plain": [
       "24"
      ]
     },
     "execution_count": 7,
     "metadata": {},
     "output_type": "execute_result"
    }
   ],
   "source": [
    "#Check for outliers in non-smokers\n",
    "zscores_non_smoker = stats.zscore(non_smoker_charges)\n",
    "outliers_non_smoker = abs(zscores_non_smoker)>3\n",
    "np.sum(outliers_non_smoker)"
   ]
  },
  {
   "cell_type": "code",
   "execution_count": 8,
   "id": "a43c8188",
   "metadata": {},
   "outputs": [],
   "source": [
    "#Remove outliers\n",
    "non_smoker_charges = non_smoker_charges[(np.abs(stats.zscore(non_smoker_charges)) < 3)]"
   ]
  },
  {
   "cell_type": "code",
   "execution_count": 9,
   "id": "cd69a070",
   "metadata": {},
   "outputs": [
    {
     "data": {
      "text/plain": [
       "NormaltestResult(statistic=61.03941356533816, pvalue=5.564930630036463e-14)"
      ]
     },
     "execution_count": 9,
     "metadata": {},
     "output_type": "execute_result"
    }
   ],
   "source": [
    "#Normal test: smokers\n",
    "result_smoker = stats.normaltest(smoker_charges)\n",
    "result_smoker"
   ]
  },
  {
   "cell_type": "code",
   "execution_count": 10,
   "id": "34ed2c21",
   "metadata": {},
   "outputs": [
    {
     "data": {
      "text/plain": [
       "NormaltestResult(statistic=163.80367047789198, pvalue=2.6945416315543976e-36)"
      ]
     },
     "execution_count": 10,
     "metadata": {},
     "output_type": "execute_result"
    }
   ],
   "source": [
    "#Normal test: non-smokers\n",
    "result_non_smoker = stats.normaltest(non_smoker_charges)\n",
    "result_non_smoker"
   ]
  },
  {
   "cell_type": "markdown",
   "id": "671ea853",
   "metadata": {},
   "source": [
    "- Both sets are not normally distributed, however, because the sample sizes are both >15, we can continue as normal."
   ]
  },
  {
   "cell_type": "code",
   "execution_count": 12,
   "id": "28645f62",
   "metadata": {},
   "outputs": [
    {
     "data": {
      "text/plain": [
       "LeveneResult(statistic=520.7468821724297, pvalue=2.4247238784347824e-97)"
      ]
     },
     "execution_count": 12,
     "metadata": {},
     "output_type": "execute_result"
    }
   ],
   "source": [
    "#Test for equal variance\n",
    "result = stats.levene(smoker_charges, non_smoker_charges)\n",
    "result"
   ]
  },
  {
   "cell_type": "markdown",
   "id": "61e43aa1",
   "metadata": {},
   "source": [
    "- We do not have equal variance, however, we can continue as normal using equal_var = False in the test."
   ]
  },
  {
   "cell_type": "markdown",
   "id": "c683a389",
   "metadata": {},
   "source": [
    "### Execute Test:"
   ]
  },
  {
   "cell_type": "code",
   "execution_count": 13,
   "id": "955bbc77",
   "metadata": {},
   "outputs": [
    {
     "data": {
      "text/plain": [
       "Ttest_indResult(statistic=33.732305987092516, pvalue=2.575322662587431e-104)"
      ]
     },
     "execution_count": 13,
     "metadata": {},
     "output_type": "execute_result"
    }
   ],
   "source": [
    "#Independent t-test with equal_var set to False\n",
    "result = stats.ttest_ind(smoker_charges, non_smoker_charges, equal_var = False)\n",
    "result"
   ]
  },
  {
   "cell_type": "markdown",
   "id": "b270fbf9",
   "metadata": {},
   "source": [
    "### Interpretation:\n",
    "\n",
    "- The p-value of our independent t-test is much less than the significance level of 0.05, therefore we do see that there is a significant difference in charges between smokers and non-smokers. We can reject the null hypothesis."
   ]
  },
  {
   "cell_type": "markdown",
   "id": "474366f9",
   "metadata": {},
   "source": [
    "### Supporting Visual:"
   ]
  },
  {
   "cell_type": "code",
   "execution_count": 14,
   "id": "07d0cc1f",
   "metadata": {},
   "outputs": [
    {
     "data": {
      "image/png": "[encoded data removed]",
      "text/plain": [
       "<Figure size 640x480 with 1 Axes>"
      ]
     },
     "metadata": {},
     "output_type": "display_data"
    }
   ],
   "source": [
    "#Visual showing differences in average charges between groups\n",
    "ax = sns.barplot(data= df, x= 'smoker', y='charges')\n",
    "ax.set_title('Average Charges for Smokers and Non-Smokers');"
   ]
  },
  {
   "cell_type": "code",
   "execution_count": 15,
   "id": "2948365b",
   "metadata": {},
   "outputs": [
    {
     "data": {
      "image/png": "[encoded data removed]",
      "text/plain": [
       "<Figure size 1000x500 with 2 Axes>"
      ]
     },
     "metadata": {},
     "output_type": "display_data"
    }
   ],
   "source": [
    "## Visualizing Sample means\n",
    "fig, (ax,ax_bar) = plt.subplots(figsize= (10,5), ncols=2, \n",
    "                                constrained_layout=True,\n",
    "                                gridspec_kw={'width_ratios':[0.8,0.2]})\n",
    "\n",
    "\n",
    "# Histogram\n",
    "ax = sns.histplot(data=df, x='charges',fill=True,hue='smoker',kde=True,\n",
    "                  stat='density',common_norm=False,ax=ax)\n",
    "\n",
    "ax.axvline(np.mean(smoker_charges), ls='--',lw=3, \n",
    "           label=f\"Smokers (Mean={np.mean(smoker_charges):.2f})\")\n",
    "\n",
    "ax.axvline(np.mean(non_smoker_charges), ls='--', lw=3, \n",
    "           label=f\"Non-Smokers (Mean={np.mean(non_smoker_charges):.2f})\")\n",
    "\n",
    "ax.legend(prop={\"size\":14}, loc='upper right')#bbox_to_anchor=[1,1])\n",
    "## Barplot\n",
    "sns.barplot(data=df, x='smoker',y='charges',ax = ax_bar,)\n",
    "fig.suptitle('Comparison of Charges by Smoking Status',fontsize='xx-large');"
   ]
  },
  {
   "cell_type": "markdown",
   "id": "88934f15",
   "metadata": {},
   "source": [
    "## Hypothesis Test 2: Are men more likely to smoke than women?"
   ]
  },
  {
   "cell_type": "markdown",
   "id": "894173dc",
   "metadata": {},
   "source": [
    "### State Hypotheses: \n",
    "\n",
    "- Null Hypothesis: There is no difference between men and women's likelihood of smoking.\n",
    "\n",
    "- Alternate Hypothesis: Men are more likely to smoke than women.\n",
    "\n",
    "- Alpha = 0.05"
   ]
  },
  {
   "cell_type": "markdown",
   "id": "3c8556d0",
   "metadata": {},
   "source": [
    "### Select Test:\n",
    "\n",
    "- Because we are comparing two categorical variables, I will use a Chi-Squared test to answer this question."
   ]
  },
  {
   "cell_type": "markdown",
   "id": "e347445f",
   "metadata": {},
   "source": [
    "### Test Assumptions:\n",
    "\n",
    "- Assumptions of Chi-Squared Test:\n",
    "    - There are two categorical variables. (Gender and smoking status)\n",
    "    - The outcomes are independent. (Smoking status is not dependent on gender)\n",
    "    \n",
    "- The assumptions for this test are true."
   ]
  },
  {
   "cell_type": "markdown",
   "id": "1e42d462",
   "metadata": {},
   "source": [
    "### Execute Test:"
   ]
  },
  {
   "cell_type": "code",
   "execution_count": 16,
   "id": "c464b4e4",
   "metadata": {},
   "outputs": [
    {
     "data": {
      "text/html": [
       "<div>\n",
       "<style scoped>\n",
       "    .dataframe tbody tr th:only-of-type {\n",
       "        vertical-align: middle;\n",
       "    }\n",
       "\n",
       "    .dataframe tbody tr th {\n",
       "        vertical-align: top;\n",
       "    }\n",
       "\n",
       "    .dataframe thead th {\n",
       "        text-align: right;\n",
       "    }\n",
       "</style>\n",
       "<table border=\"1\" class=\"dataframe\">\n",
       "  <thead>\n",
       "    <tr style=\"text-align: right;\">\n",
       "      <th>smoker</th>\n",
       "      <th>no</th>\n",
       "      <th>yes</th>\n",
       "    </tr>\n",
       "    <tr>\n",
       "      <th>sex</th>\n",
       "      <th></th>\n",
       "      <th></th>\n",
       "    </tr>\n",
       "  </thead>\n",
       "  <tbody>\n",
       "    <tr>\n",
       "      <th>female</th>\n",
       "      <td>547</td>\n",
       "      <td>115</td>\n",
       "    </tr>\n",
       "    <tr>\n",
       "      <th>male</th>\n",
       "      <td>517</td>\n",
       "      <td>159</td>\n",
       "    </tr>\n",
       "  </tbody>\n",
       "</table>\n",
       "</div>"
      ],
      "text/plain": [
       "smoker   no  yes\n",
       "sex             \n",
       "female  547  115\n",
       "male    517  159"
      ]
     },
     "execution_count": 16,
     "metadata": {},
     "output_type": "execute_result"
    }
   ],
   "source": [
    "#Create contingency table with pd.crosstab()\n",
    "table = pd.crosstab(df['sex'], df['smoker'])\n",
    "table"
   ]
  },
  {
   "cell_type": "code",
   "execution_count": 17,
   "id": "9ed70407",
   "metadata": {},
   "outputs": [],
   "source": [
    "#Execute test\n",
    "result = stats.chi2_contingency(table)\n",
    "chi2, p, deg_free, expected_vals = result "
   ]
  },
  {
   "cell_type": "markdown",
   "id": "762cad92",
   "metadata": {},
   "source": [
    "### Interpretation:\n",
    "\n",
    "- Because our p-value is less than .05, we reject the null hypothesis. We have evidence that there is a statistically significant difference between men and women smokers."
   ]
  },
  {
   "cell_type": "code",
   "execution_count": 18,
   "id": "29803fda",
   "metadata": {},
   "outputs": [
    {
     "name": "stdout",
     "output_type": "stream",
     "text": [
      "0.006548143503580696\n"
     ]
    },
    {
     "data": {
      "text/plain": [
       "True"
      ]
     },
     "execution_count": 18,
     "metadata": {},
     "output_type": "execute_result"
    }
   ],
   "source": [
    "#Print p-value\n",
    "print(p)\n",
    "p<.05"
   ]
  },
  {
   "cell_type": "markdown",
   "id": "91447f74",
   "metadata": {},
   "source": [
    "### Supporting Visual:"
   ]
  },
  {
   "cell_type": "code",
   "execution_count": 20,
   "id": "c3bd8990",
   "metadata": {},
   "outputs": [
    {
     "data": {
      "image/png": "[encoded data removed]",
      "text/plain": [
       "<Figure size 640x480 with 1 Axes>"
      ]
     },
     "metadata": {},
     "output_type": "display_data"
    }
   ],
   "source": [
    "#Visualize counts of male and female smokers\n",
    "ax = sns.countplot(data= df, x= 'smoker', hue= 'sex')\n",
    "ax.set_title('Comparison of Male and Female Smokers');"
   ]
  },
  {
   "cell_type": "markdown",
   "id": "2bc51d41",
   "metadata": {},
   "source": [
    "## Hypothesis Test 3: Do different regions have different charges, on average?"
   ]
  },
  {
   "cell_type": "markdown",
   "id": "e5b5da37",
   "metadata": {},
   "source": [
    "### State Hypotheses:  \n",
    "\n",
    "- Null Hypothesis: There are no differences in average charges by regions.\n",
    "\n",
    "- Alternate Hypothesis: There are differences in average charges by region.\n",
    "\n",
    "- Alpha = 0.05"
   ]
  },
  {
   "cell_type": "markdown",
   "id": "3b7cf9ae",
   "metadata": {},
   "source": [
    "### Select Test:\n",
    "\n",
    "- Because we are comparing average charges for multiple groups, I will use a one-way ANOVA test to answer this question."
   ]
  },
  {
   "cell_type": "markdown",
   "id": "c5b50184",
   "metadata": {},
   "source": [
    "### Test Assumptions:\n",
    "\n",
    "- Assumptions of one-way ANOVA test:\n",
    "    - No significant outliers.\n",
    "    - Normality.\n",
    "    - Equal Variance."
   ]
  },
  {
   "cell_type": "code",
   "execution_count": 21,
   "id": "7ac7f0d1",
   "metadata": {},
   "outputs": [
    {
     "data": {
      "text/plain": [
       "dict_keys(['southwest', 'southeast', 'northwest', 'northeast'])"
      ]
     },
     "execution_count": 21,
     "metadata": {},
     "output_type": "execute_result"
    }
   ],
   "source": [
    "##Create groups dictionary\n",
    "groups = {}\n",
    "#Loop through all unique categories\n",
    "for i in df['region'].unique():\n",
    "    ## Get series for group and rename\n",
    "    data = df.loc[df['region']==i,'charges'].copy()\n",
    "    \n",
    "    # save into the dictionary\n",
    "    groups[i] = data\n",
    "groups.keys()"
   ]
  },
  {
   "cell_type": "code",
   "execution_count": 22,
   "id": "db2e85a9",
   "metadata": {},
   "outputs": [
    {
     "data": {
      "text/html": [
       "<div>\n",
       "<style scoped>\n",
       "    .dataframe tbody tr th:only-of-type {\n",
       "        vertical-align: middle;\n",
       "    }\n",
       "\n",
       "    .dataframe tbody tr th {\n",
       "        vertical-align: top;\n",
       "    }\n",
       "\n",
       "    .dataframe thead th {\n",
       "        text-align: right;\n",
       "    }\n",
       "</style>\n",
       "<table border=\"1\" class=\"dataframe\">\n",
       "  <thead>\n",
       "    <tr style=\"text-align: right;\">\n",
       "      <th></th>\n",
       "      <th>n</th>\n",
       "      <th>p</th>\n",
       "      <th>test stat</th>\n",
       "    </tr>\n",
       "  </thead>\n",
       "  <tbody>\n",
       "    <tr>\n",
       "      <th>southwest</th>\n",
       "      <td>325.0</td>\n",
       "      <td>6.125298e-23</td>\n",
       "      <td>102.294059</td>\n",
       "    </tr>\n",
       "    <tr>\n",
       "      <th>southeast</th>\n",
       "      <td>364.0</td>\n",
       "      <td>4.953297e-15</td>\n",
       "      <td>65.877446</td>\n",
       "    </tr>\n",
       "    <tr>\n",
       "      <th>northwest</th>\n",
       "      <td>325.0</td>\n",
       "      <td>5.184209e-24</td>\n",
       "      <td>107.232850</td>\n",
       "    </tr>\n",
       "    <tr>\n",
       "      <th>northeast</th>\n",
       "      <td>324.0</td>\n",
       "      <td>1.455431e-19</td>\n",
       "      <td>86.747629</td>\n",
       "    </tr>\n",
       "  </tbody>\n",
       "</table>\n",
       "</div>"
      ],
      "text/plain": [
       "               n             p   test stat\n",
       "southwest  325.0  6.125298e-23  102.294059\n",
       "southeast  364.0  4.953297e-15   65.877446\n",
       "northwest  325.0  5.184209e-24  107.232850\n",
       "northeast  324.0  1.455431e-19   86.747629"
      ]
     },
     "execution_count": 22,
     "metadata": {},
     "output_type": "execute_result"
    }
   ],
   "source": [
    "## Running normal test on each group and confirming there are >20 in each group\n",
    "norm_results = {}\n",
    "for i, data in groups.items():\n",
    "    stat, p = stats.normaltest(data)\n",
    "    ## save the p val, test statistic, and the size of the group\n",
    "    norm_results[i] = {'n': len(data),\n",
    "                             'p':p,\n",
    "                             'test stat':stat,}\n",
    "## convert to a dataframe\n",
    "norm_results_df = pd.DataFrame(norm_results).T\n",
    "norm_results_df"
   ]
  },
  {
   "cell_type": "code",
   "execution_count": 23,
   "id": "d8a85f51",
   "metadata": {},
   "outputs": [
    {
     "data": {
      "text/html": [
       "<div>\n",
       "<style scoped>\n",
       "    .dataframe tbody tr th:only-of-type {\n",
       "        vertical-align: middle;\n",
       "    }\n",
       "\n",
       "    .dataframe tbody tr th {\n",
       "        vertical-align: top;\n",
       "    }\n",
       "\n",
       "    .dataframe thead th {\n",
       "        text-align: right;\n",
       "    }\n",
       "</style>\n",
       "<table border=\"1\" class=\"dataframe\">\n",
       "  <thead>\n",
       "    <tr style=\"text-align: right;\">\n",
       "      <th></th>\n",
       "      <th>n</th>\n",
       "      <th>p</th>\n",
       "      <th>test stat</th>\n",
       "      <th>sig</th>\n",
       "    </tr>\n",
       "  </thead>\n",
       "  <tbody>\n",
       "    <tr>\n",
       "      <th>southwest</th>\n",
       "      <td>325.0</td>\n",
       "      <td>6.125298e-23</td>\n",
       "      <td>102.294059</td>\n",
       "      <td>True</td>\n",
       "    </tr>\n",
       "    <tr>\n",
       "      <th>southeast</th>\n",
       "      <td>364.0</td>\n",
       "      <td>4.953297e-15</td>\n",
       "      <td>65.877446</td>\n",
       "      <td>True</td>\n",
       "    </tr>\n",
       "    <tr>\n",
       "      <th>northwest</th>\n",
       "      <td>325.0</td>\n",
       "      <td>5.184209e-24</td>\n",
       "      <td>107.232850</td>\n",
       "      <td>True</td>\n",
       "    </tr>\n",
       "    <tr>\n",
       "      <th>northeast</th>\n",
       "      <td>324.0</td>\n",
       "      <td>1.455431e-19</td>\n",
       "      <td>86.747629</td>\n",
       "      <td>True</td>\n",
       "    </tr>\n",
       "  </tbody>\n",
       "</table>\n",
       "</div>"
      ],
      "text/plain": [
       "               n             p   test stat   sig\n",
       "southwest  325.0  6.125298e-23  102.294059  True\n",
       "southeast  364.0  4.953297e-15   65.877446  True\n",
       "northwest  325.0  5.184209e-24  107.232850  True\n",
       "northeast  324.0  1.455431e-19   86.747629  True"
      ]
     },
     "execution_count": 23,
     "metadata": {},
     "output_type": "execute_result"
    }
   ],
   "source": [
    "#Checking sig with pandas \n",
    "norm_results_df['sig'] = norm_results_df['p'] < .05 \n",
    "norm_results_df\n"
   ]
  },
  {
   "cell_type": "markdown",
   "id": "b64a293a",
   "metadata": {},
   "source": [
    "- Our groups are not normally distributed, however, each group has more than 15 samples, so we can continue as normal."
   ]
  },
  {
   "cell_type": "code",
   "execution_count": 24,
   "id": "a32dc4b8",
   "metadata": {},
   "outputs": [
    {
     "data": {
      "text/plain": [
       "LeveneResult(statistic=5.559966758410606, pvalue=0.0008610590250786703)"
      ]
     },
     "execution_count": 24,
     "metadata": {},
     "output_type": "execute_result"
    }
   ],
   "source": [
    "#Test for equal variance\n",
    "stats.levene(*groups.values())"
   ]
  },
  {
   "cell_type": "markdown",
   "id": "fc75da0a",
   "metadata": {},
   "source": [
    "- Because we fail the assumption of equal variance with this data, I will substitute a Kruskal-Wallis test instead."
   ]
  },
  {
   "cell_type": "markdown",
   "id": "d60c7ccf",
   "metadata": {},
   "source": [
    "### Execute Test:"
   ]
  },
  {
   "cell_type": "code",
   "execution_count": 25,
   "id": "c0e4da10",
   "metadata": {},
   "outputs": [
    {
     "name": "stderr",
     "output_type": "stream",
     "text": [
      "/Users/krisbarber/anaconda3/envs/dojo-env/lib/python3.9/site-packages/scipy/stats/_stats_py.py:112: RuntimeWarning: The input array could not be properly checked for nan values. nan values will be ignored.\n",
      "  warnings.warn(\"The input array could not be properly \"\n"
     ]
    },
    {
     "data": {
      "text/plain": [
       "KruskalResult(statistic=3.0, pvalue=0.3916251762710877)"
      ]
     },
     "execution_count": 25,
     "metadata": {},
     "output_type": "execute_result"
    }
   ],
   "source": [
    "#Execute test\n",
    "result = stats.kruskal(*groups)\n",
    "result"
   ]
  },
  {
   "cell_type": "markdown",
   "id": "3b825027",
   "metadata": {},
   "source": [
    "### Interpretation:\n",
    "\n",
    "- Our p-value from the Kruskal-Wallis test is greater than our alpha of 0.05, which means we fail to reject the null hypothesis. We do not have enough evidence to show that there are significant differences in charges in regions."
   ]
  },
  {
   "cell_type": "markdown",
   "id": "3bed5fb5",
   "metadata": {},
   "source": [
    "### Supporting Visual:"
   ]
  },
  {
   "cell_type": "code",
   "execution_count": 26,
   "id": "f5a91d59",
   "metadata": {},
   "outputs": [
    {
     "data": {
      "image/png": "[encoded data removed]",
      "text/plain": [
       "<Figure size 640x480 with 1 Axes>"
      ]
     },
     "metadata": {},
     "output_type": "display_data"
    }
   ],
   "source": [
    "#Visualize average charges by region\n",
    "ax = sns.barplot(data= df, x= 'region', y= 'charges')\n",
    "ax.set_title('Average Charges by Region');"
   ]
  }
 ],
 "metadata": {
  "kernelspec": {
   "display_name": "Python (dojo-env)",
   "language": "python",
   "name": "dojo-env"
  },
  "language_info": {
   "codemirror_mode": {
    "name": "ipython",
    "version": 3
   },
   "file_extension": ".py",
   "mimetype": "text/x-python",
   "name": "python",
   "nbconvert_exporter": "python",
   "pygments_lexer": "ipython3",
   "version": "3.9.15"
  },
  "toc": {
   "base_numbering": 1,
   "nav_menu": {},
   "number_sections": false,
   "sideBar": true,
   "skip_h1_title": false,
   "title_cell": "Table of Contents",
   "title_sidebar": "Contents",
   "toc_cell": false,
   "toc_position": {},
   "toc_section_display": true,
   "toc_window_display": false
  }
 },
 "nbformat": 4,
 "nbformat_minor": 5
}
